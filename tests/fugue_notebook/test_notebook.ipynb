{
 "cells": [
  {
   "cell_type": "markdown",
   "id": "automotive-beverage",
   "metadata": {},
   "source": [
    "# First of all, you must load the extension\n",
    "\n",
    "Alternatively, you can add the loading logic to a startup python script for ipython. Read [this](https://ipython.org/ipython-doc/1/config/overview.html#startup-files)"
   ]
  },
  {
   "cell_type": "code",
   "execution_count": 1,
   "id": "extraordinary-chair",
   "metadata": {
    "execution": {
     "iopub.execute_input": "2021-02-04T06:51:57.767445Z",
     "iopub.status.busy": "2021-02-04T06:51:57.766936Z",
     "iopub.status.idle": "2021-02-04T06:51:58.841250Z",
     "shell.execute_reply": "2021-02-04T06:51:58.840522Z"
    }
   },
   "outputs": [],
   "source": [
    "%load_ext fugue_notebook"
   ]
  },
  {
   "cell_type": "markdown",
   "id": "starting-collector",
   "metadata": {},
   "source": [
    "# The simplest case, running using NativeExecutionEngine"
   ]
  },
  {
   "cell_type": "code",
   "execution_count": 2,
   "id": "pediatric-couple",
   "metadata": {
    "execution": {
     "iopub.execute_input": "2021-02-04T06:51:58.854157Z",
     "iopub.status.busy": "2021-02-04T06:51:58.846266Z",
     "iopub.status.idle": "2021-02-04T06:51:58.965886Z",
     "shell.execute_reply": "2021-02-04T06:51:58.965323Z"
    }
   },
   "outputs": [
    {
     "data": {
      "text/html": [
       "<div>\n",
       "<style scoped>\n",
       "    .dataframe tbody tr th:only-of-type {\n",
       "        vertical-align: middle;\n",
       "    }\n",
       "\n",
       "    .dataframe tbody tr th {\n",
       "        vertical-align: top;\n",
       "    }\n",
       "\n",
       "    .dataframe thead th {\n",
       "        text-align: right;\n",
       "    }\n",
       "</style>\n",
       "<table border=\"1\" class=\"dataframe\">\n",
       "  <thead>\n",
       "    <tr style=\"text-align: right;\">\n",
       "      <th></th>\n",
       "      <th>a</th>\n",
       "    </tr>\n",
       "  </thead>\n",
       "  <tbody>\n",
       "    <tr>\n",
       "      <th>0</th>\n",
       "      <td>0</td>\n",
       "    </tr>\n",
       "  </tbody>\n",
       "</table>\n",
       "</div>"
      ],
      "text/plain": [
       "   a\n",
       "0  0"
      ]
     },
     "metadata": {},
     "output_type": "display_data"
    },
    {
     "data": {
      "text/html": [
       "<small>schema: a:int</small>"
      ],
      "text/plain": [
       "<IPython.core.display.HTML object>"
      ]
     },
     "metadata": {},
     "output_type": "display_data"
    }
   ],
   "source": [
    "%%fsql\n",
    "CREATE [[0]] SCHEMA a:int\n",
    "PRINT"
   ]
  },
  {
   "cell_type": "markdown",
   "id": "separated-attitude",
   "metadata": {},
   "source": [
    "# Test %%fsql parsing"
   ]
  },
  {
   "cell_type": "code",
   "execution_count": 3,
   "id": "arctic-cooperative",
   "metadata": {
    "execution": {
     "iopub.execute_input": "2021-02-04T06:51:58.973566Z",
     "iopub.status.busy": "2021-02-04T06:51:58.973004Z",
     "iopub.status.idle": "2021-02-04T06:51:59.204445Z",
     "shell.execute_reply": "2021-02-04T06:51:59.203985Z"
    }
   },
   "outputs": [],
   "source": [
    "from fugue_notebook.env import _FugueSQLMagics\n",
    "from fugue import register_execution_engine, register_default_execution_engine\n",
    "from fugue import NativeExecutionEngine\n",
    "from pytest import raises\n",
    "\n",
    "\n",
    "class MockEngine(NativeExecutionEngine):\n",
    "    def __init__(self, conf=None):\n",
    "        super().__init__(conf=conf)\n",
    "        \n",
    "def test_fugue_sql_magic():\n",
    "    register_execution_engine(\"m\", lambda conf, **kwargs: MockEngine(conf=conf))\n",
    "    m = _FugueSQLMagics(None, {\"a\": 1}, {\"b\": 2})\n",
    "    e = m.get_engine(\"   \", {})\n",
    "    assert isinstance(e, NativeExecutionEngine)\n",
    "    assert 1 == e.conf[\"a\"]\n",
    "    assert 2 == e.conf[\"b\"]\n",
    "\n",
    "    e = m.get_engine(' {\"a\":2,\"c\":3, \"b\":2}  ', {})\n",
    "    assert isinstance(e, NativeExecutionEngine)\n",
    "    assert 2 == e.conf[\"a\"]\n",
    "    assert 2 == e.conf[\"b\"]\n",
    "    assert 3 == e.conf[\"c\"]\n",
    "\n",
    "    with raises(ValueError):\n",
    "        e = m.get_engine(' {\"a\":2,\"b\":1}  ', {})\n",
    "\n",
    "    e = m.get_engine(\" m   \", {})\n",
    "    assert isinstance(e, MockEngine)\n",
    "    assert 1 == e.conf[\"a\"]\n",
    "    assert 2 == e.conf[\"b\"]\n",
    "\n",
    "    e = m.get_engine(' m  {\"a\":2,\"c\":3, \"b\":2}  ', {})\n",
    "    assert isinstance(e, MockEngine)\n",
    "    assert 2 == e.conf[\"a\"]\n",
    "    assert 2 == e.conf[\"b\"]\n",
    "    assert 3 == e.conf[\"c\"]\n",
    "\n",
    "test_fugue_sql_magic()"
   ]
  },
  {
   "cell_type": "markdown",
   "id": "sweet-andrews",
   "metadata": {},
   "source": [
    "# Run with a different execution engine\n",
    "\n",
    "This engine is defined in previous test"
   ]
  },
  {
   "cell_type": "code",
   "execution_count": 4,
   "id": "distinguished-softball",
   "metadata": {
    "execution": {
     "iopub.execute_input": "2021-02-04T06:51:59.247768Z",
     "iopub.status.busy": "2021-02-04T06:51:59.232467Z",
     "iopub.status.idle": "2021-02-04T06:51:59.278483Z",
     "shell.execute_reply": "2021-02-04T06:51:59.278012Z"
    }
   },
   "outputs": [
    {
     "data": {
      "text/html": [
       "<div>\n",
       "<style scoped>\n",
       "    .dataframe tbody tr th:only-of-type {\n",
       "        vertical-align: middle;\n",
       "    }\n",
       "\n",
       "    .dataframe tbody tr th {\n",
       "        vertical-align: top;\n",
       "    }\n",
       "\n",
       "    .dataframe thead th {\n",
       "        text-align: right;\n",
       "    }\n",
       "</style>\n",
       "<table border=\"1\" class=\"dataframe\">\n",
       "  <thead>\n",
       "    <tr style=\"text-align: right;\">\n",
       "      <th></th>\n",
       "      <th>a</th>\n",
       "    </tr>\n",
       "  </thead>\n",
       "  <tbody>\n",
       "    <tr>\n",
       "      <th>0</th>\n",
       "      <td>0</td>\n",
       "    </tr>\n",
       "  </tbody>\n",
       "</table>\n",
       "</div>"
      ],
      "text/plain": [
       "   a\n",
       "0  0"
      ]
     },
     "metadata": {},
     "output_type": "display_data"
    },
    {
     "data": {
      "text/html": [
       "<small>schema: a:int</small>"
      ],
      "text/plain": [
       "<IPython.core.display.HTML object>"
      ]
     },
     "metadata": {},
     "output_type": "display_data"
    }
   ],
   "source": [
    "%%fsql m\n",
    "CREATE [[0]] SCHEMA a:int\n",
    "PRINT"
   ]
  },
  {
   "cell_type": "markdown",
   "id": "christian-stake",
   "metadata": {},
   "source": [
    "# Run with a different SQL engine"
   ]
  },
  {
   "cell_type": "code",
   "execution_count": 5,
   "id": "determined-diana",
   "metadata": {
    "execution": {
     "iopub.execute_input": "2021-02-04T06:51:59.306395Z",
     "iopub.status.busy": "2021-02-04T06:51:59.296077Z",
     "iopub.status.idle": "2021-02-04T06:51:59.358281Z",
     "shell.execute_reply": "2021-02-04T06:51:59.357895Z"
    }
   },
   "outputs": [
    {
     "data": {
      "text/html": [
       "<div>\n",
       "<style scoped>\n",
       "    .dataframe tbody tr th:only-of-type {\n",
       "        vertical-align: middle;\n",
       "    }\n",
       "\n",
       "    .dataframe tbody tr th {\n",
       "        vertical-align: top;\n",
       "    }\n",
       "\n",
       "    .dataframe thead th {\n",
       "        text-align: right;\n",
       "    }\n",
       "</style>\n",
       "<table border=\"1\" class=\"dataframe\">\n",
       "  <thead>\n",
       "    <tr style=\"text-align: right;\">\n",
       "      <th></th>\n",
       "      <th>a</th>\n",
       "    </tr>\n",
       "  </thead>\n",
       "  <tbody>\n",
       "    <tr>\n",
       "      <th>0</th>\n",
       "      <td>0</td>\n",
       "    </tr>\n",
       "  </tbody>\n",
       "</table>\n",
       "</div>"
      ],
      "text/plain": [
       "   a\n",
       "0  0"
      ]
     },
     "metadata": {},
     "output_type": "display_data"
    },
    {
     "data": {
      "text/html": [
       "<small>schema: a:int</small>"
      ],
      "text/plain": [
       "<IPython.core.display.HTML object>"
      ]
     },
     "metadata": {},
     "output_type": "display_data"
    }
   ],
   "source": [
    "%%fsql dask+sqlite\n",
    "CREATE [[0]] SCHEMA a:int\n",
    "PRINT"
   ]
  },
  {
   "cell_type": "markdown",
   "id": "accurate-wallpaper",
   "metadata": {},
   "source": [
    "# Communicate between fsql cells\n",
    "\n",
    "You must use `yield` to communicate betweem cells. That means all the intermediate data will be stored in file system. So you should also specify `fugue.workflow.checkpoint.path`."
   ]
  },
  {
   "cell_type": "code",
   "execution_count": 6,
   "id": "governmental-delivery",
   "metadata": {
    "execution": {
     "iopub.execute_input": "2021-02-04T06:51:59.391110Z",
     "iopub.status.busy": "2021-02-04T06:51:59.375805Z",
     "iopub.status.idle": "2021-02-04T06:51:59.450728Z",
     "shell.execute_reply": "2021-02-04T06:51:59.450292Z"
    }
   },
   "outputs": [],
   "source": [
    "%%fsql native\n",
    "a = CREATE [[0]] SCHEMA a:int YIELD DATAFRAME"
   ]
  },
  {
   "cell_type": "code",
   "execution_count": 7,
   "id": "peripheral-commander",
   "metadata": {
    "execution": {
     "iopub.execute_input": "2021-02-04T06:51:59.483798Z",
     "iopub.status.busy": "2021-02-04T06:51:59.468504Z",
     "iopub.status.idle": "2021-02-04T06:51:59.848292Z",
     "shell.execute_reply": "2021-02-04T06:51:59.847784Z"
    }
   },
   "outputs": [
    {
     "data": {
      "text/html": [
       "<div>\n",
       "<style scoped>\n",
       "    .dataframe tbody tr th:only-of-type {\n",
       "        vertical-align: middle;\n",
       "    }\n",
       "\n",
       "    .dataframe tbody tr th {\n",
       "        vertical-align: top;\n",
       "    }\n",
       "\n",
       "    .dataframe thead th {\n",
       "        text-align: right;\n",
       "    }\n",
       "</style>\n",
       "<table border=\"1\" class=\"dataframe\">\n",
       "  <thead>\n",
       "    <tr style=\"text-align: right;\">\n",
       "      <th></th>\n",
       "      <th>a</th>\n",
       "    </tr>\n",
       "  </thead>\n",
       "  <tbody>\n",
       "    <tr>\n",
       "      <th>0</th>\n",
       "      <td>0</td>\n",
       "    </tr>\n",
       "  </tbody>\n",
       "</table>\n",
       "</div>"
      ],
      "text/plain": [
       "   a\n",
       "0  0"
      ]
     },
     "metadata": {},
     "output_type": "display_data"
    },
    {
     "data": {
      "text/html": [
       "<small>schema: a:int</small>"
      ],
      "text/plain": [
       "<IPython.core.display.HTML object>"
      ]
     },
     "metadata": {},
     "output_type": "display_data"
    }
   ],
   "source": [
    "%%fsql native\n",
    "SELECT * FROM a\n",
    "PRINT"
   ]
  },
  {
   "cell_type": "code",
   "execution_count": null,
   "id": "empty-innocent",
   "metadata": {},
   "outputs": [],
   "source": []
  }
 ],
 "metadata": {
  "kernelspec": {
   "display_name": "Python 3",
   "language": "python",
   "name": "python3"
  },
  "language_info": {
   "codemirror_mode": {
    "name": "ipython",
    "version": 3
   },
   "file_extension": ".py",
   "mimetype": "text/x-python",
   "name": "python",
   "nbconvert_exporter": "python",
   "pygments_lexer": "ipython3",
   "version": "3.7.9"
  }
 },
 "nbformat": 4,
 "nbformat_minor": 5
}
