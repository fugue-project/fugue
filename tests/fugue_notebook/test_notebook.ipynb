{
 "cells": [
  {
   "cell_type": "markdown",
   "id": "automotive-beverage",
   "metadata": {},
   "source": [
    "# First of all, you must load the extension\n",
    "\n",
    "Alternatively, you can add the loading logic to a startup python script for ipython. Read [this](https://ipython.org/ipython-doc/1/config/overview.html#startup-files)"
   ]
  },
  {
   "cell_type": "code",
   "execution_count": 1,
   "id": "extraordinary-chair",
   "metadata": {
    "execution": {
     "iopub.execute_input": "2023-07-20T05:55:16.811695Z",
     "iopub.status.busy": "2023-07-20T05:55:16.811366Z",
     "iopub.status.idle": "2023-07-20T05:55:16.819607Z",
     "shell.execute_reply": "2023-07-20T05:55:16.818776Z"
    }
   },
   "outputs": [],
   "source": [
    "%load_ext fugue_notebook"
   ]
  },
  {
   "cell_type": "markdown",
   "id": "starting-collector",
   "metadata": {},
   "source": [
    "# The simplest case, running using NativeExecutionEngine"
   ]
  },
  {
   "cell_type": "code",
   "execution_count": 2,
   "id": "pediatric-couple",
   "metadata": {
    "execution": {
     "iopub.execute_input": "2023-07-20T05:55:16.822449Z",
     "iopub.status.busy": "2023-07-20T05:55:16.822234Z",
     "iopub.status.idle": "2023-07-20T05:55:18.953741Z",
     "shell.execute_reply": "2023-07-20T05:55:18.952855Z"
    }
   },
   "outputs": [
    {
     "data": {
      "text/html": [
       "<div>\n",
       "<style scoped>\n",
       "    .dataframe tbody tr th:only-of-type {\n",
       "        vertical-align: middle;\n",
       "    }\n",
       "\n",
       "    .dataframe tbody tr th {\n",
       "        vertical-align: top;\n",
       "    }\n",
       "\n",
       "    .dataframe thead th {\n",
       "        text-align: right;\n",
       "    }\n",
       "</style>\n",
       "<table border=\"1\" class=\"dataframe\">\n",
       "  <thead>\n",
       "    <tr style=\"text-align: right;\">\n",
       "      <th></th>\n",
       "      <th>a:int</th>\n",
       "    </tr>\n",
       "  </thead>\n",
       "  <tbody>\n",
       "    <tr>\n",
       "      <th>0</th>\n",
       "      <td>0</td>\n",
       "    </tr>\n",
       "  </tbody>\n",
       "</table>\n",
       "</div>\n",
       "<font size=\"-1\">ArrayDataFrame: a:int</font>"
      ],
      "text/plain": [
       "<IPython.core.display.HTML object>"
      ]
     },
     "metadata": {},
     "output_type": "display_data"
    }
   ],
   "source": [
    "%%fsql\n",
    "CREATE [[0]] SCHEMA a:int\n",
    "PRINT"
   ]
  },
  {
   "cell_type": "markdown",
   "id": "separated-attitude",
   "metadata": {},
   "source": [
    "# Test %%fsql parsing"
   ]
  },
  {
   "cell_type": "code",
   "execution_count": 3,
   "id": "arctic-cooperative",
   "metadata": {
    "execution": {
     "iopub.execute_input": "2023-07-20T05:55:18.956792Z",
     "iopub.status.busy": "2023-07-20T05:55:18.956198Z",
     "iopub.status.idle": "2023-07-20T05:55:19.018400Z",
     "shell.execute_reply": "2023-07-20T05:55:19.017799Z"
    }
   },
   "outputs": [],
   "source": [
    "from fugue_notebook.env import _FugueSQLMagics\n",
    "from fugue import register_execution_engine, register_default_execution_engine\n",
    "from fugue import NativeExecutionEngine\n",
    "from pytest import raises\n",
    "\n",
    "\n",
    "class MockEngine(NativeExecutionEngine):\n",
    "    def __init__(self, conf=None):\n",
    "        super().__init__(conf=conf)\n",
    "        \n",
    "def test_fugue_sql_magic():\n",
    "    register_execution_engine(\"m\", lambda conf, **kwargs: MockEngine(conf=conf))\n",
    "    m = _FugueSQLMagics(None, {\"a\": 1}, {\"b\": 2})\n",
    "    e = m.get_engine(\"   \", {})\n",
    "    assert isinstance(e, NativeExecutionEngine)\n",
    "    assert 1 == e.conf[\"a\"]\n",
    "    assert 2 == e.conf[\"b\"]\n",
    "\n",
    "    e = m.get_engine(' {\"a\":2,\"c\":3, \"b\":2}  ', {})\n",
    "    assert isinstance(e, NativeExecutionEngine)\n",
    "    assert 2 == e.conf[\"a\"]\n",
    "    assert 2 == e.conf[\"b\"]\n",
    "    assert 3 == e.conf[\"c\"]\n",
    "\n",
    "    with raises(ValueError):\n",
    "        e = m.get_engine(' {\"a\":2,\"b\":1}  ', {})\n",
    "\n",
    "    e = m.get_engine(\" m   \", {})\n",
    "    assert isinstance(e, MockEngine)\n",
    "    assert 1 == e.conf[\"a\"]\n",
    "    assert 2 == e.conf[\"b\"]\n",
    "\n",
    "    e = m.get_engine(' m  {\"a\":2,\"c\":3, \"b\":2}  ', {})\n",
    "    assert isinstance(e, MockEngine)\n",
    "    assert 2 == e.conf[\"a\"]\n",
    "    assert 2 == e.conf[\"b\"]\n",
    "    assert 3 == e.conf[\"c\"]\n",
    "\n",
    "test_fugue_sql_magic()"
   ]
  },
  {
   "cell_type": "markdown",
   "id": "sweet-andrews",
   "metadata": {},
   "source": [
    "# Run with a different execution engine\n",
    "\n",
    "This engine is defined in previous test"
   ]
  },
  {
   "cell_type": "code",
   "execution_count": 4,
   "id": "distinguished-softball",
   "metadata": {
    "execution": {
     "iopub.execute_input": "2023-07-20T05:55:19.021449Z",
     "iopub.status.busy": "2023-07-20T05:55:19.021206Z",
     "iopub.status.idle": "2023-07-20T05:55:19.035821Z",
     "shell.execute_reply": "2023-07-20T05:55:19.035153Z"
    }
   },
   "outputs": [
    {
     "data": {
      "text/html": [
       "<div>\n",
       "<style scoped>\n",
       "    .dataframe tbody tr th:only-of-type {\n",
       "        vertical-align: middle;\n",
       "    }\n",
       "\n",
       "    .dataframe tbody tr th {\n",
       "        vertical-align: top;\n",
       "    }\n",
       "\n",
       "    .dataframe thead th {\n",
       "        text-align: right;\n",
       "    }\n",
       "</style>\n",
       "<table border=\"1\" class=\"dataframe\">\n",
       "  <thead>\n",
       "    <tr style=\"text-align: right;\">\n",
       "      <th></th>\n",
       "      <th>a:int</th>\n",
       "    </tr>\n",
       "  </thead>\n",
       "  <tbody>\n",
       "    <tr>\n",
       "      <th>0</th>\n",
       "      <td>0</td>\n",
       "    </tr>\n",
       "  </tbody>\n",
       "</table>\n",
       "</div>\n",
       "<font size=\"-1\">ArrayDataFrame: a:int</font>"
      ],
      "text/plain": [
       "<IPython.core.display.HTML object>"
      ]
     },
     "metadata": {},
     "output_type": "display_data"
    }
   ],
   "source": [
    "%%fsql m\n",
    "CREATE [[0]] SCHEMA a:int\n",
    "PRINT"
   ]
  },
  {
   "cell_type": "markdown",
   "id": "christian-stake",
   "metadata": {},
   "source": [
    "# Run with a different SQL engine"
   ]
  },
  {
   "cell_type": "code",
   "execution_count": 5,
   "id": "determined-diana",
   "metadata": {
    "execution": {
     "iopub.execute_input": "2023-07-20T05:55:19.038779Z",
     "iopub.status.busy": "2023-07-20T05:55:19.038251Z",
     "iopub.status.idle": "2023-07-20T05:55:20.655030Z",
     "shell.execute_reply": "2023-07-20T05:55:20.654247Z"
    }
   },
   "outputs": [
    {
     "data": {
      "text/html": [
       "<div>\n",
       "<style scoped>\n",
       "    .dataframe tbody tr th:only-of-type {\n",
       "        vertical-align: middle;\n",
       "    }\n",
       "\n",
       "    .dataframe tbody tr th {\n",
       "        vertical-align: top;\n",
       "    }\n",
       "\n",
       "    .dataframe thead th {\n",
       "        text-align: right;\n",
       "    }\n",
       "</style>\n",
       "<table border=\"1\" class=\"dataframe\">\n",
       "  <thead>\n",
       "    <tr style=\"text-align: right;\">\n",
       "      <th></th>\n",
       "      <th>a:int</th>\n",
       "    </tr>\n",
       "  </thead>\n",
       "  <tbody>\n",
       "    <tr>\n",
       "      <th>0</th>\n",
       "      <td>0</td>\n",
       "    </tr>\n",
       "  </tbody>\n",
       "</table>\n",
       "</div>\n",
       "<font size=\"-1\">DaskDataFrame: a:int</font>"
      ],
      "text/plain": [
       "<IPython.core.display.HTML object>"
      ]
     },
     "metadata": {},
     "output_type": "display_data"
    }
   ],
   "source": [
    "%%fsql dask+duckdb\n",
    "CREATE [[0]] SCHEMA a:int\n",
    "PRINT"
   ]
  },
  {
   "cell_type": "markdown",
   "id": "accurate-wallpaper",
   "metadata": {},
   "source": [
    "# Communicate between fsql cells\n",
    "\n",
    "You must use `yield` to communicate betweem cells. That means all the intermediate data will be stored in file system. So you should also specify `fugue.workflow.checkpoint.path`."
   ]
  },
  {
   "cell_type": "code",
   "execution_count": 6,
   "id": "governmental-delivery",
   "metadata": {
    "execution": {
     "iopub.execute_input": "2023-07-20T05:55:20.658674Z",
     "iopub.status.busy": "2023-07-20T05:55:20.658346Z",
     "iopub.status.idle": "2023-07-20T05:55:20.675195Z",
     "shell.execute_reply": "2023-07-20T05:55:20.674615Z"
    }
   },
   "outputs": [],
   "source": [
    "%%fsql native\n",
    "a = CREATE [[0]] SCHEMA a:int YIELD DATAFRAME"
   ]
  },
  {
   "cell_type": "code",
   "execution_count": 7,
   "id": "peripheral-commander",
   "metadata": {
    "execution": {
     "iopub.execute_input": "2023-07-20T05:55:20.677890Z",
     "iopub.status.busy": "2023-07-20T05:55:20.677475Z",
     "iopub.status.idle": "2023-07-20T05:55:21.060169Z",
     "shell.execute_reply": "2023-07-20T05:55:21.059079Z"
    }
   },
   "outputs": [
    {
     "data": {
      "text/html": [
       "<div>\n",
       "<style scoped>\n",
       "    .dataframe tbody tr th:only-of-type {\n",
       "        vertical-align: middle;\n",
       "    }\n",
       "\n",
       "    .dataframe tbody tr th {\n",
       "        vertical-align: top;\n",
       "    }\n",
       "\n",
       "    .dataframe thead th {\n",
       "        text-align: right;\n",
       "    }\n",
       "</style>\n",
       "<table border=\"1\" class=\"dataframe\">\n",
       "  <thead>\n",
       "    <tr style=\"text-align: right;\">\n",
       "      <th></th>\n",
       "      <th>a:int</th>\n",
       "    </tr>\n",
       "  </thead>\n",
       "  <tbody>\n",
       "    <tr>\n",
       "      <th>0</th>\n",
       "      <td>0</td>\n",
       "    </tr>\n",
       "  </tbody>\n",
       "</table>\n",
       "</div>\n",
       "<font size=\"-1\">PandasDataFrame: a:int</font>"
      ],
      "text/plain": [
       "<IPython.core.display.HTML object>"
      ]
     },
     "metadata": {},
     "output_type": "display_data"
    }
   ],
   "source": [
    "%%fsql native\n",
    "SELECT * FROM a\n",
    "PRINT"
   ]
  },
  {
   "cell_type": "code",
   "execution_count": 8,
   "id": "empty-innocent",
   "metadata": {
    "execution": {
     "iopub.execute_input": "2023-07-20T05:55:21.063253Z",
     "iopub.status.busy": "2023-07-20T05:55:21.062929Z",
     "iopub.status.idle": "2023-07-20T05:55:21.068724Z",
     "shell.execute_reply": "2023-07-20T05:55:21.067977Z"
    }
   },
   "outputs": [
    {
     "data": {
      "application/javascript": [
       "\n",
       "require([\"codemirror/lib/codemirror\"]);\n",
       "function set(str) {\n",
       "    var obj = {}, words = str.split(\" \");\n",
       "    for (var i = 0; i < words.length; ++i) obj[words[i]] = true;\n",
       "    return obj;\n",
       "  }\n",
       "var fugue_keywords = \"fill hash rand even presort persist broadcast params process output outtransform rowcount concurrency prepartition zip print title save append parquet csv json single checkpoint weak strong deterministic yield connect sample seed take sub callback dataframe file\";\n",
       "CodeMirror.defineMIME(\"text/x-fsql\", {\n",
       "    name: \"sql\",\n",
       "    keywords: set(fugue_keywords + \" add after all alter analyze and anti archive array as asc at between bucket buckets by cache cascade case cast change clear cluster clustered codegen collection column columns comment commit compact compactions compute concatenate cost create cross cube current current_date current_timestamp database databases data dbproperties defined delete delimited deny desc describe dfs directories distinct distribute drop else end escaped except exchange exists explain export extended external false fields fileformat first following for format formatted from full function functions global grant group grouping having if ignore import in index indexes inner inpath inputformat insert intersect interval into is items join keys last lateral lazy left like limit lines list load local location lock locks logical macro map minus msck natural no not null nulls of on optimize option options or order out outer outputformat over overwrite partition partitioned partitions percent preceding principals purge range recordreader recordwriter recover reduce refresh regexp rename repair replace reset restrict revoke right rlike role roles rollback rollup row rows schema schemas select semi separated serde serdeproperties set sets show skewed sort sorted start statistics stored stratify struct table tables tablesample tblproperties temp temporary terminated then to touch transaction transactions transform true truncate unarchive unbounded uncache union unlock unset use using values view when where window with\"),\n",
       "    builtin: set(\"date datetime tinyint smallint int bigint boolean float double string binary timestamp decimal array map struct uniontype delimited serde sequencefile textfile rcfile inputformat outputformat\"),\n",
       "    atoms: set(\"false true null\"),\n",
       "    operatorChars: /^[*\\/+\\-%<>!=~&|^]/,\n",
       "    dateSQL: set(\"time\"),\n",
       "    support: set(\"ODBCdotTable doubleQuote zerolessFloat\")\n",
       "  });\n",
       "\n",
       "CodeMirror.modeInfo.push( {\n",
       "            name: \"Fugue SQL\",\n",
       "            mime: \"text/x-fsql\",\n",
       "            mode: \"sql\"\n",
       "          } );\n",
       "\n",
       "require(['notebook/js/codecell'], function(codecell) {\n",
       "    codecell.CodeCell.options_default.highlight_modes['magic_text/x-fsql'] = {'reg':[/%%fsql/]} ;\n",
       "    Jupyter.notebook.events.on('kernel_ready.Kernel', function(){\n",
       "    Jupyter.notebook.get_cells().map(function(cell){\n",
       "        if (cell.cell_type == 'code'){ cell.auto_highlight(); } }) ;\n",
       "    });\n",
       "  });\n"
      ],
      "text/plain": [
       "<IPython.core.display.Javascript object>"
      ]
     },
     "metadata": {},
     "output_type": "display_data"
    }
   ],
   "source": [
    "from fugue_notebook import setup\n",
    "\n",
    "setup(fsql_ignore_case=True)"
   ]
  },
  {
   "cell_type": "code",
   "execution_count": 9,
   "id": "logical-contract",
   "metadata": {
    "execution": {
     "iopub.execute_input": "2023-07-20T05:55:21.072367Z",
     "iopub.status.busy": "2023-07-20T05:55:21.071709Z",
     "iopub.status.idle": "2023-07-20T05:55:21.135810Z",
     "shell.execute_reply": "2023-07-20T05:55:21.134908Z"
    }
   },
   "outputs": [
    {
     "data": {
      "text/html": [
       "<div>\n",
       "<style scoped>\n",
       "    .dataframe tbody tr th:only-of-type {\n",
       "        vertical-align: middle;\n",
       "    }\n",
       "\n",
       "    .dataframe tbody tr th {\n",
       "        vertical-align: top;\n",
       "    }\n",
       "\n",
       "    .dataframe thead th {\n",
       "        text-align: right;\n",
       "    }\n",
       "</style>\n",
       "<table border=\"1\" class=\"dataframe\">\n",
       "  <thead>\n",
       "    <tr style=\"text-align: right;\">\n",
       "      <th></th>\n",
       "      <th>a:int</th>\n",
       "    </tr>\n",
       "  </thead>\n",
       "  <tbody>\n",
       "    <tr>\n",
       "      <th>0</th>\n",
       "      <td>0</td>\n",
       "    </tr>\n",
       "  </tbody>\n",
       "</table>\n",
       "</div>\n",
       "<font size=\"-1\">PandasDataFrame: a:int</font>"
      ],
      "text/plain": [
       "<IPython.core.display.HTML object>"
      ]
     },
     "metadata": {},
     "output_type": "display_data"
    }
   ],
   "source": [
    "%%fsql native\n",
    "select * from a\n",
    "print"
   ]
  },
  {
   "cell_type": "code",
   "execution_count": null,
   "id": "industrial-compilation",
   "metadata": {},
   "outputs": [],
   "source": []
  }
 ],
 "metadata": {
  "interpreter": {
   "hash": "949777d72b0d2535278d3dc13498b2535136f6dfe0678499012e853ee9abcab1"
  },
  "kernelspec": {
   "display_name": "Python 3.7.9 64-bit",
   "name": "python3"
  },
  "language_info": {
   "codemirror_mode": {
    "name": "ipython",
    "version": 3
   },
   "file_extension": ".py",
   "mimetype": "text/x-python",
   "name": "python",
   "nbconvert_exporter": "python",
   "pygments_lexer": "ipython3",
   "version": "3.8.16"
  }
 },
 "nbformat": 4,
 "nbformat_minor": 5
}
