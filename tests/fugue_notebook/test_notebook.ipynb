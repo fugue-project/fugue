{
 "cells": [
  {
   "cell_type": "markdown",
   "id": "automotive-beverage",
   "metadata": {},
   "source": [
    "# First of all, you must load the extension\n",
    "\n",
    "Alternatively, you can add the loading logic to a startup python script for ipython. Read [this](https://ipython.org/ipython-doc/1/config/overview.html#startup-files)"
   ]
  },
  {
   "cell_type": "code",
   "execution_count": 1,
   "id": "extraordinary-chair",
   "metadata": {
    "execution": {
     "iopub.execute_input": "2021-01-26T18:46:34.183670Z",
     "iopub.status.busy": "2021-01-26T18:46:34.182911Z",
     "iopub.status.idle": "2021-01-26T18:46:35.340011Z",
     "shell.execute_reply": "2021-01-26T18:46:35.339374Z"
    }
   },
   "outputs": [],
   "source": [
    "%load_ext fugue_notebook"
   ]
  },
  {
   "cell_type": "markdown",
   "id": "starting-collector",
   "metadata": {},
   "source": [
    "# The simplest case, running using NativeExecutionEngine"
   ]
  },
  {
   "cell_type": "code",
   "execution_count": 2,
   "id": "pediatric-couple",
   "metadata": {
    "execution": {
     "iopub.execute_input": "2021-01-26T18:46:35.349009Z",
     "iopub.status.busy": "2021-01-26T18:46:35.348230Z",
     "iopub.status.idle": "2021-01-26T18:46:35.469783Z",
     "shell.execute_reply": "2021-01-26T18:46:35.469265Z"
    }
   },
   "outputs": [
    {
     "data": {
      "text/html": [
       "<div>\n",
       "<style scoped>\n",
       "    .dataframe tbody tr th:only-of-type {\n",
       "        vertical-align: middle;\n",
       "    }\n",
       "\n",
       "    .dataframe tbody tr th {\n",
       "        vertical-align: top;\n",
       "    }\n",
       "\n",
       "    .dataframe thead th {\n",
       "        text-align: right;\n",
       "    }\n",
       "</style>\n",
       "<table border=\"1\" class=\"dataframe\">\n",
       "  <thead>\n",
       "    <tr style=\"text-align: right;\">\n",
       "      <th></th>\n",
       "      <th>a</th>\n",
       "    </tr>\n",
       "  </thead>\n",
       "  <tbody>\n",
       "    <tr>\n",
       "      <th>0</th>\n",
       "      <td>0</td>\n",
       "    </tr>\n",
       "  </tbody>\n",
       "</table>\n",
       "</div>"
      ],
      "text/plain": [
       "   a\n",
       "0  0"
      ]
     },
     "metadata": {},
     "output_type": "display_data"
    },
    {
     "data": {
      "text/html": [
       "<small>schema: a:int</small>"
      ],
      "text/plain": [
       "<IPython.core.display.HTML object>"
      ]
     },
     "metadata": {},
     "output_type": "display_data"
    }
   ],
   "source": [
    "%%fsql\n",
    "CREATE [[0]] SCHEMA a:int\n",
    "PRINT"
   ]
  },
  {
   "cell_type": "markdown",
   "id": "separated-attitude",
   "metadata": {},
   "source": [
    "# Test %%fsql parsing"
   ]
  },
  {
   "cell_type": "code",
   "execution_count": 3,
   "id": "arctic-cooperative",
   "metadata": {
    "execution": {
     "iopub.execute_input": "2021-01-26T18:46:35.479229Z",
     "iopub.status.busy": "2021-01-26T18:46:35.478737Z",
     "iopub.status.idle": "2021-01-26T18:46:35.539665Z",
     "shell.execute_reply": "2021-01-26T18:46:35.539200Z"
    }
   },
   "outputs": [],
   "source": [
    "from fugue_notebook.env import FugueSQLMagics\n",
    "from fugue import register_execution_engine, register_default_execution_engine\n",
    "from fugue import NativeExecutionEngine\n",
    "from pytest import raises\n",
    "\n",
    "\n",
    "class MockEngine(NativeExecutionEngine):\n",
    "    def __init__(self, conf=None):\n",
    "        super().__init__(conf=conf)\n",
    "        \n",
    "def test_fugue_sql_magic():\n",
    "    register_execution_engine(\"m\", lambda conf, **kwargs: MockEngine(conf=conf))\n",
    "    m = FugueSQLMagics(None, {\"a\": 1}, {\"b\": 2})\n",
    "    e = m.get_engine(\"   \", {})\n",
    "    assert isinstance(e, NativeExecutionEngine)\n",
    "    assert 1 == e.conf[\"a\"]\n",
    "    assert 2 == e.conf[\"b\"]\n",
    "\n",
    "    e = m.get_engine(' {\"a\":2,\"c\":3, \"b\":2}  ', {})\n",
    "    assert isinstance(e, NativeExecutionEngine)\n",
    "    assert 2 == e.conf[\"a\"]\n",
    "    assert 2 == e.conf[\"b\"]\n",
    "    assert 3 == e.conf[\"c\"]\n",
    "\n",
    "    with raises(ValueError):\n",
    "        e = m.get_engine(' {\"a\":2,\"b\":1}  ', {})\n",
    "\n",
    "    e = m.get_engine(\" m   \", {})\n",
    "    assert isinstance(e, MockEngine)\n",
    "    assert 1 == e.conf[\"a\"]\n",
    "    assert 2 == e.conf[\"b\"]\n",
    "\n",
    "    e = m.get_engine(' m  {\"a\":2,\"c\":3, \"b\":2}  ', {})\n",
    "    assert isinstance(e, MockEngine)\n",
    "    assert 2 == e.conf[\"a\"]\n",
    "    assert 2 == e.conf[\"b\"]\n",
    "    assert 3 == e.conf[\"c\"]\n",
    "\n",
    "test_fugue_sql_magic()"
   ]
  },
  {
   "cell_type": "markdown",
   "id": "sweet-andrews",
   "metadata": {},
   "source": [
    "# Run with a different execution engine\n",
    "\n",
    "This engine is defined in previous test"
   ]
  },
  {
   "cell_type": "code",
   "execution_count": 4,
   "id": "distinguished-softball",
   "metadata": {
    "execution": {
     "iopub.execute_input": "2021-01-26T18:46:35.604449Z",
     "iopub.status.busy": "2021-01-26T18:46:35.578454Z",
     "iopub.status.idle": "2021-01-26T18:46:35.618097Z",
     "shell.execute_reply": "2021-01-26T18:46:35.618467Z"
    }
   },
   "outputs": [
    {
     "data": {
      "text/html": [
       "<div>\n",
       "<style scoped>\n",
       "    .dataframe tbody tr th:only-of-type {\n",
       "        vertical-align: middle;\n",
       "    }\n",
       "\n",
       "    .dataframe tbody tr th {\n",
       "        vertical-align: top;\n",
       "    }\n",
       "\n",
       "    .dataframe thead th {\n",
       "        text-align: right;\n",
       "    }\n",
       "</style>\n",
       "<table border=\"1\" class=\"dataframe\">\n",
       "  <thead>\n",
       "    <tr style=\"text-align: right;\">\n",
       "      <th></th>\n",
       "      <th>a</th>\n",
       "    </tr>\n",
       "  </thead>\n",
       "  <tbody>\n",
       "    <tr>\n",
       "      <th>0</th>\n",
       "      <td>0</td>\n",
       "    </tr>\n",
       "  </tbody>\n",
       "</table>\n",
       "</div>"
      ],
      "text/plain": [
       "   a\n",
       "0  0"
      ]
     },
     "metadata": {},
     "output_type": "display_data"
    },
    {
     "data": {
      "text/html": [
       "<small>schema: a:int</small>"
      ],
      "text/plain": [
       "<IPython.core.display.HTML object>"
      ]
     },
     "metadata": {},
     "output_type": "display_data"
    }
   ],
   "source": [
    "%%fsql m\n",
    "CREATE [[0]] SCHEMA a:int\n",
    "PRINT"
   ]
  },
  {
   "cell_type": "markdown",
   "id": "accurate-wallpaper",
   "metadata": {},
   "source": [
    "# Communicate between fsql cells\n",
    "\n",
    "You must use `yield` to communicate betweem cells. That means all the intermediate data will be stored in file system. So you should also specify `fugue.workflow.checkpoint.path`."
   ]
  },
  {
   "cell_type": "code",
   "execution_count": 9,
   "id": "governmental-delivery",
   "metadata": {
    "execution": {
     "iopub.execute_input": "2021-01-26T18:46:35.656741Z",
     "iopub.status.busy": "2021-01-26T18:46:35.636034Z",
     "iopub.status.idle": "2021-01-26T18:46:35.741622Z",
     "shell.execute_reply": "2021-01-26T18:46:35.741138Z"
    }
   },
   "outputs": [],
   "source": [
    "%%fsql native\n",
    "a = CREATE [[0]] SCHEMA a:int YIELD DATAFRAME"
   ]
  },
  {
   "cell_type": "code",
   "execution_count": 10,
   "id": "peripheral-commander",
   "metadata": {
    "execution": {
     "iopub.execute_input": "2021-01-26T18:46:35.785376Z",
     "iopub.status.busy": "2021-01-26T18:46:35.769842Z",
     "iopub.status.idle": "2021-01-26T18:46:35.973262Z",
     "shell.execute_reply": "2021-01-26T18:46:35.972860Z"
    }
   },
   "outputs": [
    {
     "data": {
      "text/html": [
       "<div>\n",
       "<style scoped>\n",
       "    .dataframe tbody tr th:only-of-type {\n",
       "        vertical-align: middle;\n",
       "    }\n",
       "\n",
       "    .dataframe tbody tr th {\n",
       "        vertical-align: top;\n",
       "    }\n",
       "\n",
       "    .dataframe thead th {\n",
       "        text-align: right;\n",
       "    }\n",
       "</style>\n",
       "<table border=\"1\" class=\"dataframe\">\n",
       "  <thead>\n",
       "    <tr style=\"text-align: right;\">\n",
       "      <th></th>\n",
       "      <th>a</th>\n",
       "    </tr>\n",
       "  </thead>\n",
       "  <tbody>\n",
       "    <tr>\n",
       "      <th>0</th>\n",
       "      <td>0</td>\n",
       "    </tr>\n",
       "  </tbody>\n",
       "</table>\n",
       "</div>"
      ],
      "text/plain": [
       "   a\n",
       "0  0"
      ]
     },
     "metadata": {},
     "output_type": "display_data"
    },
    {
     "data": {
      "text/html": [
       "<small>schema: a:long</small>"
      ],
      "text/plain": [
       "<IPython.core.display.HTML object>"
      ]
     },
     "metadata": {},
     "output_type": "display_data"
    }
   ],
   "source": [
    "%%fsql native\n",
    "SELECT * FROM a\n",
    "PRINT"
   ]
  },
  {
   "cell_type": "code",
   "execution_count": null,
   "id": "empty-innocent",
   "metadata": {},
   "outputs": [],
   "source": []
  }
 ],
 "metadata": {
  "kernelspec": {
   "display_name": "Python 3",
   "language": "python",
   "name": "python3"
  },
  "language_info": {
   "codemirror_mode": {
    "name": "ipython",
    "version": 3
   },
   "file_extension": ".py",
   "mimetype": "text/x-python",
   "name": "python",
   "nbconvert_exporter": "python",
   "pygments_lexer": "ipython3",
   "version": "3.7.9"
  }
 },
 "nbformat": 4,
 "nbformat_minor": 5
}
