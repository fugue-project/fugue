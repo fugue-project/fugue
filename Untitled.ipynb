{
 "cells": [
  {
   "cell_type": "code",
   "execution_count": null,
   "id": "seasonal-biography",
   "metadata": {},
   "outputs": [],
   "source": [
    "%%mysql\n",
    "SELECT "
   ]
  },
  {
   "cell_type": "code",
   "execution_count": null,
   "id": "conventional-barrel",
   "metadata": {},
   "outputs": [],
   "source": [
    "%%fsql\n",
    "SELECT TRANSFORM"
   ]
  },
  {
   "cell_type": "code",
   "execution_count": null,
   "id": "technical-stanley",
   "metadata": {},
   "outputs": [],
   "source": [
    "%%mysql\n",
    "SELECT * FROM TRANSFORM\n"
   ]
  },
  {
   "cell_type": "code",
   "execution_count": null,
   "id": "mature-value",
   "metadata": {},
   "outputs": [],
   "source": [
    "%%ffsql\n",
    "SELECT TRANSFORM FILLLL"
   ]
  }
 ],
 "metadata": {
  "kernelspec": {
   "display_name": "Python 3",
   "language": "python",
   "name": "python3"
  },
  "language_info": {
   "codemirror_mode": {
    "name": "ipython",
    "version": 3
   },
   "file_extension": ".py",
   "mimetype": "text/x-python",
   "name": "python",
   "nbconvert_exporter": "python",
   "pygments_lexer": "ipython3",
   "version": "3.7.9"
  }
 },
 "nbformat": 4,
 "nbformat_minor": 5
}
